{
 "cells": [
  {
   "cell_type": "code",
   "execution_count": 329,
   "metadata": {},
   "outputs": [],
   "source": [
    "import numpy as np\n",
    "import matplotlib.pyplot as plt\n",
    "from sklearn.manifold import TSNE\n",
    "from utils.data_utils import get_datasets\n",
    "from configs import load_configs\n",
    "from log_tools import logger, save_results\n",
    "from models import OpenSetModel, train_autoencoder\n",
    "import seaborn as sns\n",
    "from sklearn.metrics import roc_auc_score, balanced_accuracy_score\n",
    "from eval import *\n",
    "\n",
    "from sklearn.mixture import GaussianMixture"
   ]
  },
  {
   "cell_type": "code",
   "execution_count": 330,
   "metadata": {},
   "outputs": [],
   "source": [
    "configs = load_configs(\"configs/config.yaml\")\n",
    "datasets = get_datasets(configs[\"data\"])"
   ]
  },
  {
   "cell_type": "code",
   "execution_count": 331,
   "metadata": {},
   "outputs": [],
   "source": [
    "gmm_list = []\n",
    "\n",
    "for i in range(np.unique(datasets[\"init_known\"][\"train\"][1]).shape[0]):\n",
    "    gmm = GaussianMixture(n_components=3, covariance_type='full')\n",
    "    gmm.fit(datasets[\"init_known\"][\"train\"][0][datasets[\"init_known\"][\"train\"][1] == i])\n",
    "    gmm_list.append(gmm)\n",
    "# open_set_model.find_best_thresholds(\n",
    "#     np.concatenate([datasets[\"init_known\"][\"val\"][0], datasets[\"emerging\"][\"learning\"][0]]),\n",
    "#     np.concatenate([datasets[\"init_known\"][\"val\"][1], datasets[\"emerging\"][\"learning\"][1]]),\n",
    "# )"
   ]
  },
  {
   "cell_type": "code",
   "execution_count": 332,
   "metadata": {},
   "outputs": [],
   "source": [
    "# eval_datasets = np.concatenate(\n",
    "#     [\n",
    "#         datasets[\"init_sources\"][\"test\"][0][datasets[\"init_sources\"][\"test\"][1] == 0],\n",
    "#         datasets[\"emerging\"][\"test\"][0],\n",
    "#     ]\n",
    "# )\n",
    "# eval_labels = np.concatenate(\n",
    "#     [\n",
    "#         datasets[\"init_sources\"][\"test\"][1][datasets[\"init_sources\"][\"test\"][1] == 0],\n",
    "#         # np.zeros_like(datasets[\"emerging\"][\"test\"][1]),\n",
    "#     ]\n",
    "# )\n",
    "\n",
    "# scores = np.zeros((eval_datasets.shape[0], len(gmm_list)))\n",
    "# for i, gmm in enumerate(gmm_list):\n",
    "#     scores[:, i] = gmm.score_samples(eval_datasets)\n",
    "\n",
    "# preds = np.argmax(scores, axis=1)\n",
    "# acc = balanced_accuracy_score(eval_labels, preds)\n",
    "# print(f\"Balanced accuracy: {round(acc * 100, 4)}\")"
   ]
  },
  {
   "cell_type": "code",
   "execution_count": 340,
   "metadata": {},
   "outputs": [
    {
     "name": "stdout",
     "output_type": "stream",
     "text": [
      "Balanced Accuracy: 58.830000000000005\n",
      "AUC: 91.67999999999999\n"
     ]
    }
   ],
   "source": [
    "configs = load_configs(\"configs/config.yaml\")\n",
    "datasets = get_datasets(configs[\"data\"])\n",
    "\n",
    "eval_datasets = np.concatenate(\n",
    "    [\n",
    "        datasets[\"init_known\"][\"test\"][0][datasets[\"init_known\"][\"test\"][1] == 0],\n",
    "        datasets[\"emerging\"][\"test\"][0],\n",
    "    ]\n",
    ")\n",
    "eval_labels = np.concatenate(\n",
    "    [\n",
    "        np.ones_like(datasets[\"init_known\"][\"test\"][1][datasets[\"init_known\"][\"test\"][1] == 0]),\n",
    "        np.zeros_like(datasets[\"emerging\"][\"test\"][1]),\n",
    "    ]\n",
    ")\n",
    "\n",
    "threshold_datasets = np.concatenate(\n",
    "    [\n",
    "        datasets[\"init_known\"][\"val\"][0],\n",
    "        datasets[\"ood\"][0],\n",
    "    ]\n",
    ")\n",
    "threshold_labels = np.concatenate(\n",
    "    [\n",
    "        np.ones_like(datasets[\"init_known\"][\"val\"][1]),\n",
    "        np.zeros_like(datasets[\"ood\"][1]),\n",
    "    ]\n",
    ")\n",
    "\n",
    "# scores = np.zeros((eval_datasets.shape[0], len(gmm_list)))\n",
    "# for i, gmm in enumerate(gmm_list):\n",
    "#     scores[:, i] = gmm.score_samples(eval_datasets)\n",
    "scores = gmm_list[0].score_samples(eval_datasets)\n",
    "auc = roc_auc_score(eval_labels, scores)\n",
    "# scores = scores - np.min(scores)\n",
    "# scores = -scores / np.max(scores)\n",
    "scores_threshold = gmm_list[0].score_samples(threshold_datasets)\n",
    "fprs, tprs, thresholds = roc_curve(threshold_labels, scores_threshold)\n",
    "best_threshold = thresholds[np.argmax(tprs - fprs)]\n",
    "preds = scores > best_threshold\n",
    "acc = balanced_accuracy_score(eval_labels, preds)\n",
    "\n",
    "print(f\"Balanced Accuracy: {round(acc, 4) * 100}\")\n",
    "print(f\"AUC: {round(auc, 4) * 100}\")"
   ]
  },
  {
   "cell_type": "code",
   "execution_count": null,
   "metadata": {},
   "outputs": [],
   "source": []
  }
 ],
 "metadata": {
  "kernelspec": {
   "display_name": "venv",
   "language": "python",
   "name": "python3"
  },
  "language_info": {
   "codemirror_mode": {
    "name": "ipython",
    "version": 3
   },
   "file_extension": ".py",
   "mimetype": "text/x-python",
   "name": "python",
   "nbconvert_exporter": "python",
   "pygments_lexer": "ipython3",
   "version": "3.9.18"
  }
 },
 "nbformat": 4,
 "nbformat_minor": 2
}
